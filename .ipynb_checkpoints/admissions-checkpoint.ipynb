{
 "cells": [
  {
   "cell_type": "code",
   "execution_count": null,
   "id": "c97dad6b",
   "metadata": {},
   "outputs": [],
   "source": [
    "import pandas as pd\n",
    "import numpy as np\n",
    "import matplotlib.pyplot as plt\n",
    "\n",
    "import tensorflow as tf\n",
    "from tensorflow\timport keras\n",
    "from tensorflow.keras.models import Sequential\n",
    "from tensorflow.keras.optimizers import Adam\n",
    "from tensorflow.keras import layers\n",
    "\n",
    "from sklearn.model_selection import train_test_split\n",
    "from sklearn.preprocessing import StandardScaler\n",
    "from sklearn.metrics import r2_score"
   ]
  },
  {
   "cell_type": "code",
   "execution_count": null,
   "id": "740d1d9f",
   "metadata": {},
   "outputs": [],
   "source": [
    "# Load data\n",
    "admission_data = pd.read_csv('admissions_data.csv')\n",
    "# print(admission_data.head())\n",
    "print(admission_data.columns)\n",
    "# remove white spaces at end of column names\n",
    "admission_data.columns = admission_data.columns.str.strip()\n",
    "print(admission_data.columns)"
   ]
  },
  {
   "cell_type": "code",
   "execution_count": null,
   "id": "4c4bacc8",
   "metadata": {},
   "outputs": [],
   "source": [
    "# \n",
    "get\n",
    "features = admission_data.drop('Chance of Admit', axis=1)\n",
    "labels = admission_data['Chance of Admit']"
   ]
  },
  {
   "cell_type": "code",
   "execution_count": null,
   "id": "0d87318a",
   "metadata": {},
   "outputs": [],
   "source": [
    "# Split data into train and test\n",
    "features_train_set , features_test_set , labels_train_set , labels_test_set=train_test_split(features, labels, \n",
    "                                                                                             test_size=0.2, random_state=42)"
   ]
  },
  {
   "cell_type": "code",
   "execution_count": null,
   "id": "866c4b8e",
   "metadata": {},
   "outputs": [],
   "source": [
    "# Scale inputs\n",
    "scaler = StandardScaler()\n",
    "features_train_set = scaler.fit_transform(features_train_set)\n",
    "features_test_set = scaler.transform(features_test_set)"
   ]
  },
  {
   "cell_type": "code",
   "execution_count": null,
   "id": "0fc990db",
   "metadata": {},
   "outputs": [],
   "source": [
    "# Define Model architecture\n",
    "model = Sequential()\n",
    "input = layers.InputLayer(input_shape=(features_train_set.shape[1],))\n",
    "model.add(input)\n",
    "model.add(layers.Dense(64, activation='relu'))\n",
    "model.add(layers.Dense(1))\n",
    "model.summary()"
   ]
  },
  {
   "cell_type": "code",
   "execution_count": null,
   "id": "12083f4f",
   "metadata": {},
   "outputs": [],
   "source": [
    "# Set model hyper-parameters\n",
    "epochs = 20\n",
    "opt = Adam(learning_rate=0.01)\n",
    "model.compile(loss='mse', metrics=['mae'], optimizer=opt)"
   ]
  },
  {
   "cell_type": "code",
   "execution_count": null,
   "id": "bf3f8bf4",
   "metadata": {},
   "outputs": [],
   "source": [
    "Train model\n",
    "history = model.fit(features_train_set, labels_train_set, epochs=epochs, \n",
    "                    batch_size=5, verbose=0, validation_split=0.20)"
   ]
  },
  {
   "cell_type": "code",
   "execution_count": null,
   "id": "1dbe0845",
   "metadata": {},
   "outputs": [],
   "source": [
    "# Evaluate model\n",
    "res_mse, res_mae = model.evaluate(features_test_set, labels_test_set)\n",
    "print('MSE', res_mse)\n",
    "print('MAE', res_mae)"
   ]
  },
  {
   "cell_type": "code",
   "execution_count": null,
   "id": "db76178c",
   "metadata": {},
   "outputs": [],
   "source": [
    "# Model plots\n",
    "acc = history.history['mae']\n",
    "val_acc = history.history['val_mae']\n",
    "\n",
    "loss = history.history['loss']\n",
    "val_loss = history.history['val_loss']\n",
    "\n",
    "epochs_range = range(epochs)\n",
    "\n",
    "fig = plt.figure(figsize=(8, 8))\n",
    "plt.subplot(1, 2, 1)\n",
    "plt.plot(epochs_range, acc, label='Training MAE')\n",
    "plt.plot(epochs_range, val_acc, label='Validation MAE')\n",
    "plt.legend(loc='upper right')\n",
    "plt.title('Training and Validation MAE')\n",
    "\n",
    "plt.subplot(1, 2, 2)\n",
    "plt.plot(epochs_range, loss, label='Training Loss')\n",
    "plt.plot(epochs_range, val_loss, label='Validation Loss')\n",
    "plt.legend(loc='upper right')\n",
    "plt.title('Training and Validation Loss')\n",
    "\n",
    "fig.savefig('static/images/my_plots.png')\n",
    "plt.show()"
   ]
  },
  {
   "cell_type": "code",
   "execution_count": null,
   "id": "0cd4b090",
   "metadata": {},
   "outputs": [],
   "source": [
    "# make predictions\n",
    "prediction = model.predict(features_test_set)\n",
    "# calculate coefficient of determination'\n",
    "r_squared_val = r2_score(labels_test_set, prediction)\n",
    "print('R-squared value', r_squared_val)"
   ]
  },
  {
   "cell_type": "code",
   "execution_count": null,
   "id": "7e3d1b3c",
   "metadata": {},
   "outputs": [],
   "source": []
  }
 ],
 "metadata": {
  "kernelspec": {
   "display_name": "Python 3",
   "language": "python",
   "name": "python3"
  },
  "language_info": {
   "codemirror_mode": {
    "name": "ipython",
    "version": 3
   },
   "file_extension": ".py",
   "mimetype": "text/x-python",
   "name": "python",
   "nbconvert_exporter": "python",
   "pygments_lexer": "ipython3",
   "version": "3.8.5"
  }
 },
 "nbformat": 4,
 "nbformat_minor": 5
}
